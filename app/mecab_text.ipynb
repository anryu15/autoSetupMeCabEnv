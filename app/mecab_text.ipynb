{
 "cells": [
  {
   "cell_type": "code",
   "execution_count": 9,
   "metadata": {},
   "outputs": [
    {
     "name": "stdout",
     "output_type": "stream",
     "text": [
      "リアル二刀流\tリアルニトウリュウ\tリアル二刀流\t名詞-固有名詞-一般\t\t\n",
      "と\tト\tと\t助詞-格助詞-引用\t\t\n",
      "は\tハ\tは\t助詞-係助詞\t\t\n",
      "なんぞ\tナンゾ\tなんぞ\t助詞-副助詞\t\t\n",
      "や\tヤ\tや\t助動詞\t特殊・ヤ\t基本形\n",
      "EOS\n"
     ]
    }
   ],
   "source": [
    "import MeCab\n",
    "\n",
    "# 解析対象の文字列を用意\n",
    "text = \"リアル二刀流とはなんぞや\"\n",
    "\n",
    "# 辞書を指定してタガー生成\n",
    "tagger = MeCab.Tagger(\"-Ochasen -d /usr/local/lib/mecab/dic/mecab-ipadic-neologd\")\n",
    "\n",
    "# 形態素解析結果を出力\n",
    "for line in tagger.parse(text).splitlines():\n",
    "    print(line)"
   ]
  },
  {
   "cell_type": "code",
   "execution_count": null,
   "metadata": {},
   "outputs": [],
   "source": []
  }
 ],
 "metadata": {
  "kernelspec": {
   "display_name": "Python 3",
   "language": "python",
   "name": "python3"
  },
  "language_info": {
   "codemirror_mode": {
    "name": "ipython",
    "version": 3
   },
   "file_extension": ".py",
   "mimetype": "text/x-python",
   "name": "python",
   "nbconvert_exporter": "python",
   "pygments_lexer": "ipython3",
   "version": "3.10.12"
  },
  "orig_nbformat": 4
 },
 "nbformat": 4,
 "nbformat_minor": 2
}
